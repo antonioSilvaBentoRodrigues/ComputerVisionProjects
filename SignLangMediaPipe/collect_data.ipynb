{
 "cells": [
  {
   "cell_type": "code",
   "execution_count": 1,
   "id": "0a8761e1-b379-4bce-9d73-480cba73f368",
   "metadata": {},
   "outputs": [],
   "source": [
    "import cv2\n",
    "import os"
   ]
  },
  {
   "cell_type": "code",
   "execution_count": 2,
   "id": "52a6e364-b565-41dc-adcd-c1e26634b978",
   "metadata": {},
   "outputs": [],
   "source": [
    "num_samples_class = 100\n",
    "num_classes = 5"
   ]
  },
  {
   "cell_type": "code",
   "execution_count": 3,
   "id": "f7801e2e-e4b4-4517-8f1c-416f09c0cb2a",
   "metadata": {},
   "outputs": [],
   "source": [
    "DATA_DIR = 'sign-lang-img-dataset'"
   ]
  },
  {
   "cell_type": "code",
   "execution_count": 4,
   "id": "feb34f9e-2bc8-4826-b2f1-fd9dd4984027",
   "metadata": {},
   "outputs": [],
   "source": [
    "#If data folder doesn't exist, create it\n",
    "if not os.path.exists(DATA_DIR):\n",
    "    os.makedirs(DATA_DIR)"
   ]
  },
  {
   "cell_type": "code",
   "execution_count": 5,
   "id": "eec5d505-cd4a-4a95-9f60-e95a725fb4db",
   "metadata": {},
   "outputs": [],
   "source": [
    "video_cap = cv2.VideoCapture(0)\n",
    "# Create class folders , collect data and save it\n",
    "for class_ in range(num_classes):\n",
    "    if not os.path.exists(os.path.join(DATA_DIR, str(class_))):\n",
    "        os.makedirs(os.path.join(DATA_DIR, str(class_)))\n",
    "    while True:\n",
    "        ret, frame = video_cap.read()\n",
    "        if not ret:\n",
    "            print('Frame not detected')\n",
    "            continue\n",
    "        cv2.putText(frame,'Press q to start',(100,50),cv2.FONT_HERSHEY_SIMPLEX,2,(255,255,0),2,cv2.LINE_AA)\n",
    "        if cv2.waitKey(5) & 0xFF == ord('q'):\n",
    "            break\n",
    "        cv2.imshow('Collect data', frame)\n",
    "\n",
    "    sample_count = 0\n",
    "    while sample_count < num_samples_class:\n",
    "        ret, frame = video_cap.read()\n",
    "        cv2.imshow('Collect data', frame)\n",
    "        cv2.waitKey(15)\n",
    "        cv2.imwrite(os.path.join(DATA_DIR, str(class_),'{}.jpg'.format(sample_count)), frame)\n",
    "        sample_count+=1\n",
    "video_cap.release()\n",
    "cv2.destroyAllWindows()"
   ]
  }
 ],
 "metadata": {
  "kernelspec": {
   "display_name": "Python 3 (ipykernel)",
   "language": "python",
   "name": "python3"
  },
  "language_info": {
   "codemirror_mode": {
    "name": "ipython",
    "version": 3
   },
   "file_extension": ".py",
   "mimetype": "text/x-python",
   "name": "python",
   "nbconvert_exporter": "python",
   "pygments_lexer": "ipython3",
   "version": "3.11.7"
  }
 },
 "nbformat": 4,
 "nbformat_minor": 5
}
