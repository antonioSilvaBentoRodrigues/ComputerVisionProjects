{
 "cells": [
  {
   "cell_type": "code",
   "execution_count": 1,
   "id": "08db459e-82bc-442d-9dc1-9218d146de59",
   "metadata": {},
   "outputs": [],
   "source": [
    "import warnings\n",
    "warnings.filterwarnings('ignore')\n",
    "import mediapipe as mp\n",
    "import cv2\n",
    "import numpy as np\n",
    "import pickle"
   ]
  },
  {
   "cell_type": "code",
   "execution_count": 2,
   "id": "68f659f7-7fe8-4704-af97-1b86062c82f6",
   "metadata": {},
   "outputs": [],
   "source": [
    "mp_drawing = mp.solutions.drawing_utils\n",
    "mp_draw_styles = mp.solutions.drawing_styles\n",
    "mp_hands = mp.solutions.hands\n",
    "video_cap = cv2.VideoCapture(0)\n",
    "with open('model.pkl','rb') as f:\n",
    "    clf = pickle.load(f)\n",
    "true_labels = {0: 'B',1: 'A',2: 'C',3: 'D',4: 'F'}\n",
    "with mp_hands.Hands(\n",
    "    static_image_mode=True,\n",
    "    max_num_hands=2,\n",
    "    min_detection_confidence=0.5) as hands:\n",
    "    while video_cap.isOpened():\n",
    "        ret, frame = video_cap.read()\n",
    "        H, W, _ = frame.shape\n",
    "        if not ret:\n",
    "            print('No frame displayed')\n",
    "            continue\n",
    "\n",
    "        frame = cv2.cvtColor(frame, cv2.COLOR_BGR2RGB)\n",
    "        hand_landmarks = hands.process(frame)\n",
    "        frame = cv2.cvtColor(frame, cv2.COLOR_RGB2BGR)\n",
    "        str_label = None\n",
    "        if hand_landmarks.multi_hand_landmarks:\n",
    "            for landmark in hand_landmarks.multi_hand_landmarks:\n",
    "                sample = []\n",
    "                x_ = []\n",
    "                y_ = []\n",
    "                data_aux=[]\n",
    "                mp_drawing.draw_landmarks(\n",
    "                    frame,\n",
    "                    landmark,\n",
    "                    mp_hands.HAND_CONNECTIONS,\n",
    "                    mp_draw_styles.get_default_hand_landmarks_style(),\n",
    "                    mp_draw_styles.get_default_hand_connections_style()\n",
    "                )\n",
    "                for i in range(len(landmark.landmark)):\n",
    "                    x,y,z = landmark.landmark[i].x,landmark.landmark[i].y,landmark.landmark[i].z\n",
    "                    data_aux.append(x)\n",
    "                    data_aux.append(y)\n",
    "                    data_aux.append(z)\n",
    "                sample.append(data_aux)\n",
    "                predicted_label = round(clf.predict(np.asarray(sample)).mean())\n",
    "                str_label = true_labels[predicted_label]\n",
    "            for i in range(len(landmark.landmark)):\n",
    "                x = landmark.landmark[i].x\n",
    "                y = landmark.landmark[i].y\n",
    "\n",
    "                x_.append(x)\n",
    "                y_.append(y)\n",
    "\n",
    "                x = int(np.mean(x_) * W) \n",
    "                y = int(np.mean(y_) * H) \n",
    "        \n",
    "            cv2.putText(frame,str_label,(x,y),cv2.FONT_HERSHEY_SIMPLEX,2,(255,205,0),3,cv2.LINE_AA)\n",
    "        cv2.imshow('Frame', frame)\n",
    "        if cv2.waitKey(10) & 0xFF == ord('q'):\n",
    "            break\n",
    "video_cap.release()\n",
    "cv2.destroyAllWindows()"
   ]
  }
 ],
 "metadata": {
  "kernelspec": {
   "display_name": "Python 3 (ipykernel)",
   "language": "python",
   "name": "python3"
  },
  "language_info": {
   "codemirror_mode": {
    "name": "ipython",
    "version": 3
   },
   "file_extension": ".py",
   "mimetype": "text/x-python",
   "name": "python",
   "nbconvert_exporter": "python",
   "pygments_lexer": "ipython3",
   "version": "3.11.7"
  }
 },
 "nbformat": 4,
 "nbformat_minor": 5
}
