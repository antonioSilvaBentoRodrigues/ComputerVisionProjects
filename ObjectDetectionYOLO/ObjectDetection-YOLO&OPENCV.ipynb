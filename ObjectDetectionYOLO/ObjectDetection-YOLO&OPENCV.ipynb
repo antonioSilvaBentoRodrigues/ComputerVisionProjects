{
 "cells": [
  {
   "cell_type": "code",
   "execution_count": null,
   "id": "661cb350-9f41-49d6-b018-8c658f0be57f",
   "metadata": {},
   "outputs": [],
   "source": [
    "from ultralytics import YOLO\n",
    "import cv2\n",
    "import numpy as np"
   ]
  },
  {
   "cell_type": "code",
   "execution_count": null,
   "id": "c0ca2fea-e6ec-4902-9f54-c447d4ad4de2",
   "metadata": {},
   "outputs": [],
   "source": [
    "yolo = YOLO('yolov8s.pt')"
   ]
  },
  {
   "cell_type": "code",
   "execution_count": null,
   "id": "c904fa8e-aaca-4b37-ae0b-19a09632bb2f",
   "metadata": {},
   "outputs": [],
   "source": [
    "num_classes = len(yolo.names)\n",
    "num_classes"
   ]
  },
  {
   "cell_type": "code",
   "execution_count": null,
   "id": "f69c8c9e-7461-4088-8367-95b6a7d2ae30",
   "metadata": {},
   "outputs": [],
   "source": [
    "# Creating random colors for the different classes bounding boxes\n",
    "BBX_COLORS = np.random.randint(0,255,size=(num_classes,3), dtype='int64')"
   ]
  },
  {
   "cell_type": "code",
   "execution_count": null,
   "id": "68904781-96da-4128-b7a5-a368e4163d30",
   "metadata": {},
   "outputs": [],
   "source": [
    "tuple(BBX_COLORS[0])"
   ]
  },
  {
   "cell_type": "code",
   "execution_count": null,
   "id": "91ca7451-a606-4b75-8629-080f16a62e0e",
   "metadata": {},
   "outputs": [],
   "source": [
    "video_path = 'VideoSample/car_sample.mp4'\n",
    "video_cap = cv2.VideoCapture(video_path)\n",
    "while True:\n",
    "    ret, frame = video_cap.read()\n",
    "    frame = cv2.resize(frame,(1200,800))\n",
    "    if not ret:\n",
    "        print('Not connected')\n",
    "        continue\n",
    "    detections = yolo.track(frame, stream=True)\n",
    "    for detection in detections:\n",
    "        classes_names = detection.names\n",
    "        for bbox in detection.boxes:\n",
    "            if bbox.conf[0]>0.6:\n",
    "                [x1,y1,x2,y2]=bbox.xyxy[0]\n",
    "                x1,y1,x2,y2 = int(x1), int(y1), int(x2), int(y2)\n",
    "                class_ = int(bbox.cls[0])\n",
    "                class_name = classes_names[class_]\n",
    "                color = (int(BBX_COLORS[class_][0]),int(BBX_COLORS[class_][1]),int(BBX_COLORS[class_][2]))\n",
    "                cv2.rectangle(frame, (x1,y1), (x2,y2), color, 2)\n",
    "                cv2.putText(frame,f'{classes_names[int(class_)]}{bbox.conf[0]:.2f}', (x1,y1),cv2.FONT_HERSHEY_SIMPLEX, 1, color, 2)\n",
    "                    # show the image\n",
    "    cv2.imshow('frame', frame)\n",
    "\n",
    "    if cv2.waitKey(2) & 0xFF == ord('q'):\n",
    "        break\n",
    "\n",
    "# release the video capture and destroy all windows\n",
    "video_cap.release()\n",
    "cv2.destroyAllWindows()"
   ]
  }
 ],
 "metadata": {
  "kernelspec": {
   "display_name": "Python 3 (ipykernel)",
   "language": "python",
   "name": "python3"
  },
  "language_info": {
   "codemirror_mode": {
    "name": "ipython",
    "version": 3
   },
   "file_extension": ".py",
   "mimetype": "text/x-python",
   "name": "python",
   "nbconvert_exporter": "python",
   "pygments_lexer": "ipython3",
   "version": "3.11.7"
  }
 },
 "nbformat": 4,
 "nbformat_minor": 5
}
