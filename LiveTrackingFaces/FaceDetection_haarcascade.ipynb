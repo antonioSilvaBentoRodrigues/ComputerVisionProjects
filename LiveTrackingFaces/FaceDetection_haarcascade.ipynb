{
 "cells": [
  {
   "cell_type": "code",
   "execution_count": 1,
   "id": "f7e35709-86bc-4222-a556-c6c1d0e30ff0",
   "metadata": {},
   "outputs": [],
   "source": [
    "import cv2 as cv\n",
    "import time\n",
    "import numpy as np\n",
    "\n",
    "video_cap = cv.VideoCapture(0)\n",
    "next_frame=0\n",
    "last_frame=0\n",
    "face_cascade = cv.CascadeClassifier(\"./haarcascade_profileface.xml\")\n",
    "hands_cascade = cv.CascadeClassifier\n",
    "video_cap.set(3,1280) # set Width\n",
    "video_cap.set(4,720) # set Height\n",
    "while True:\n",
    "    ret, frame = video_cap.read()\n",
    "    next_frame = time.time()\n",
    "    fps = int(1/(next_frame-last_frame)) \n",
    "    last_frame = next_frame\n",
    "    fps=str(fps)\n",
    "    cv.putText(frame, fps ,(7, 70), cv.FONT_HERSHEY_SIMPLEX, 3, (100, 255, 0), 3, cv.LINE_AA)#display camera fps\n",
    "    \n",
    "    frame_gray = cv.cvtColor(frame, cv.COLOR_BGR2GRAY)\n",
    "    frame_gray = cv.equalizeHist(frame_gray)\n",
    "    #Face detection\n",
    "    \n",
    "    faces = face_cascade.detectMultiScale(\n",
    "        frame_gray,     \n",
    "        scaleFactor=1.1,\n",
    "        minNeighbors=5,     \n",
    "        minSize=(80, 80)\n",
    "    )\n",
    "\n",
    "    \n",
    "    for (x,y,h,w) in faces:\n",
    "        cv.rectangle(frame, (x, y), (x+w, y+h), (255, 0, 0),2) \n",
    "        roi_gray = frame_gray[y:y+h, x:x+w]\n",
    "        roi_color = frame[y:y+h, x:x+w]  \n",
    "\n",
    "    cv.imshow('Capture - Face detection', frame)\n",
    "    if cv.waitKey(31) & 0xFF ==ord('q'): #press q to exit\n",
    "        break\n",
    "video_cap.release()\n",
    "cv.destroyAllWindows()"
   ]
  },
  {
   "cell_type": "code",
   "execution_count": null,
   "id": "32ec3e0b-8468-4e79-a39d-88e5b334e6c3",
   "metadata": {},
   "outputs": [],
   "source": []
  }
 ],
 "metadata": {
  "kernelspec": {
   "display_name": "Python 3 (ipykernel)",
   "language": "python",
   "name": "python3"
  },
  "language_info": {
   "codemirror_mode": {
    "name": "ipython",
    "version": 3
   },
   "file_extension": ".py",
   "mimetype": "text/x-python",
   "name": "python",
   "nbconvert_exporter": "python",
   "pygments_lexer": "ipython3",
   "version": "3.11.7"
  }
 },
 "nbformat": 4,
 "nbformat_minor": 5
}
