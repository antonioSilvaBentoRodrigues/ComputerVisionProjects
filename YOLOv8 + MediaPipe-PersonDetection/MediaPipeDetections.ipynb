{
 "cells": [
  {
   "cell_type": "code",
   "execution_count": 1,
   "id": "bfcc99c1-3973-4008-937d-c417880aabe0",
   "metadata": {},
   "outputs": [],
   "source": [
    "import mediapipe as mp\n",
    "import cv2"
   ]
  },
  {
   "cell_type": "code",
   "execution_count": 3,
   "id": "4535b15a-0907-4e7f-ab84-091f5589615c",
   "metadata": {},
   "outputs": [],
   "source": [
    "# MediaPipe drawing and drawing styles\n",
    "mp_draw = mp.solutions.drawing_utils\n",
    "mp_draw_styles = mp.solutions.drawing_styles\n",
    "## MediaPipe face mesh \n",
    "mp_face = mp.solutions.face_mesh\n",
    "face = mp_face.FaceMesh()\n",
    "## MediaPipe hand connections\n",
    "mp_hand = mp.solutions.hands\n",
    "hand = mp_hand.Hands()\n",
    "## Mediapipe pose \n",
    "mp_pose = mp.solutions.pose\n",
    "pose = mp_pose.Pose()"
   ]
  },
  {
   "cell_type": "code",
   "execution_count": 18,
   "id": "1c8f48db-8415-43a8-91bc-74ac7e5a5716",
   "metadata": {},
   "outputs": [],
   "source": [
    "video_path = './person02.mp4_output.mp4'\n",
    "video_cap = cv2.VideoCapture(video_path)\n",
    "while video_cap.isOpened():\n",
    "    ret, frame = video_cap.read()\n",
    "    frame = cv2.resize(frame,(900,1000))\n",
    "    frame.flags.writeable = False\n",
    "    frame = cv2.cvtColor(frame, cv2.COLOR_BGR2RGB)\n",
    "    results_face = face.process(frame)\n",
    "    results_hand = hand.process(frame)\n",
    "    results_pose = pose.process(frame)\n",
    "    frame.flags.writeable = True\n",
    "    frame = cv2.cvtColor(frame, cv2.COLOR_RGB2BGR)\n",
    "    mp_draw.draw_landmarks(\n",
    "        frame,\n",
    "        results_pose.pose_landmarks,\n",
    "        mp_pose.POSE_CONNECTIONS,\n",
    "        landmark_drawing_spec=mp_draw_styles.get_default_pose_landmarks_style()\n",
    "    )\n",
    "\n",
    "    if results_hand.multi_hand_landmarks:\n",
    "        for hand_landmark in results_hand.multi_hand_landmarks:\n",
    "            mp_draw.draw_landmarks(\n",
    "                frame,\n",
    "                hand_landmark,\n",
    "                mp_hand.HAND_CONNECTIONS,\n",
    "                mp_draw_styles.get_default_hand_landmarks_style(),\n",
    "                mp_draw_styles.get_default_hand_connections_style()\n",
    "                )\n",
    "                #Drawing face landmarks\n",
    "    if results_face.multi_face_landmarks:\n",
    "        for face_landmark in results_face.multi_face_landmarks:\n",
    "            mp_draw.draw_landmarks(\n",
    "                frame,\n",
    "                face_landmark,\n",
    "                mp_face.FACEMESH_TESSELATION,\n",
    "                landmark_drawing_spec = None,\n",
    "                connection_drawing_spec = mp_draw_styles.get_default_face_mesh_tesselation_style()\n",
    "                )\n",
    "            mp_draw.draw_landmarks(\n",
    "                frame,\n",
    "                face_landmark,\n",
    "                mp_face.FACEMESH_CONTOURS,\n",
    "                landmark_drawing_spec = None,\n",
    "                connection_drawing_spec = mp_draw_styles.get_default_face_mesh_contours_style()\n",
    "                )\n",
    "    cv2.imshow('Frame', frame)\n",
    "    if cv2.waitKey(10) == ord('q'):\n",
    "        break\n",
    "video_cap.release()\n",
    "cv2.destroyAllWindows()"
   ]
  }
 ],
 "metadata": {
  "kernelspec": {
   "display_name": "Python 3 (ipykernel)",
   "language": "python",
   "name": "python3"
  },
  "language_info": {
   "codemirror_mode": {
    "name": "ipython",
    "version": 3
   },
   "file_extension": ".py",
   "mimetype": "text/x-python",
   "name": "python",
   "nbconvert_exporter": "python",
   "pygments_lexer": "ipython3",
   "version": "3.11.7"
  }
 },
 "nbformat": 4,
 "nbformat_minor": 5
}
